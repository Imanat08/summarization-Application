{
 "cells": [
  {
   "cell_type": "code",
   "execution_count": null,
   "id": "e9a3c314",
   "metadata": {},
   "outputs": [],
   "source": [
    "# Import necessary libraries\n",
    "from transformers import pipeline"
   ]
  },
  {
   "cell_type": "code",
   "execution_count": null,
   "id": "1b3ccc56",
   "metadata": {},
   "outputs": [],
   "source": [
    "# Step 1: Choose the interface pipeline - Text Summarization\n",
    "task = \"summarization\"\n",
    "\n",
    "# Step 2: Create the summarization pipeline\n",
    "summarization_pipeline = pipeline(task)"
   ]
  },
  {
   "cell_type": "code",
   "execution_count": null,
   "id": "b51552f9",
   "metadata": {},
   "outputs": [],
   "source": [
    "# Step 3: Sample example - Summarize a piece of text using the default model\n",
    "sample_text = \"\"\"\n",
    "Hugging Face is a technology company based in New York City that specializes in natural language processing. \n",
    "They have developed the Transformers library, which is widely used for various NLP tasks.\n",
    "\"\"\"\n",
    "\n",
    "default_summary = summarization_pipeline(sample_text, max_length=150, min_length=50, do_sample=False)[0]['summary_text']\n",
    "print(\"Default Model Summary:\", default_summary)"
   ]
  },
  {
   "cell_type": "code",
   "execution_count": null,
   "id": "72adc2e7",
   "metadata": {},
   "outputs": [],
   "source": [
    "# Step 4: Change the default model to another suitable model\n",
    "new_model_name = \"facebook/bart-large-cnn\"\n",
    "summarization_pipeline_new = pipeline(task, model=new_model_name)\n",
    "\n",
    "# Step 5: Example with the new model\n",
    "new_summary = summarization_pipeline_new(sample_text, max_length=150, min_length=50, do_sample=False)[0]['summary_text']\n",
    "print(\"New Model Summary:\", new_summary)"
   ]
  }
 ],
 "metadata": {
  "kernelspec": {
   "display_name": "Python 3 (ipykernel)",
   "language": "python",
   "name": "python3"
  },
  "language_info": {
   "codemirror_mode": {
    "name": "ipython",
    "version": 3
   },
   "file_extension": ".py",
   "mimetype": "text/x-python",
   "name": "python",
   "nbconvert_exporter": "python",
   "pygments_lexer": "ipython3",
   "version": "3.11.1"
  }
 },
 "nbformat": 4,
 "nbformat_minor": 5
}
