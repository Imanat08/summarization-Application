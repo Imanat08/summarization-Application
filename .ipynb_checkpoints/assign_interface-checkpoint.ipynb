{
 "cells": [
  {
   "cell_type": "code",
   "execution_count": 1,
   "id": "6764fce7",
   "metadata": {},
   "outputs": [],
   "source": [
    "import gradio as gr\n",
    "from transformers import pipeline"
   ]
  },
  {
   "cell_type": "code",
   "execution_count": 2,
   "id": "7a60664b",
   "metadata": {},
   "outputs": [],
   "source": [
    "# Choose the interface pipeline - Text Summarization\n",
    "task = \"summarization\""
   ]
  },
  {
   "cell_type": "code",
   "execution_count": 7,
   "id": "350b0729",
   "metadata": {},
   "outputs": [
    {
     "name": "stderr",
     "output_type": "stream",
     "text": [
      "All model checkpoint layers were used when initializing TFBartForConditionalGeneration.\n",
      "\n",
      "All the layers of TFBartForConditionalGeneration were initialized from the model checkpoint at facebook/bart-large-cnn.\n",
      "If your task is similar to the task the model of the checkpoint was trained on, you can already use TFBartForConditionalGeneration for predictions without further training.\n"
     ]
    }
   ],
   "source": [
    "# defining the model to use\n",
    "model_name = \"facebook/bart-large-cnn\"\n",
    "\n",
    "# Create the summarization pipeline\n",
    "summarization_pipeline = pipeline(task, model=model_name)"
   ]
  },
  {
   "cell_type": "code",
   "execution_count": 11,
   "id": "d740bf44",
   "metadata": {},
   "outputs": [],
   "source": [
    "# Define the function to be used by Gradio for summarization\n",
    "def summarize_text(input_text):\n",
    "    summary = summarization_pipeline(input_text, max_length=150, min_length=50, do_sample=False)[0]['summary_text']\n",
    "    return summary"
   ]
  },
  {
   "cell_type": "code",
   "execution_count": 24,
   "id": "973f5450",
   "metadata": {},
   "outputs": [],
   "source": [
    "# Create the Gradio interface\n",
    "iface = gr.Interface(\n",
    "    fn=summarize_text,\n",
    "    inputs=gr.components.Textbox(),\n",
    "    outputs=gr.components.Textbox(),\n",
    "    live=True,\n",
    "    title=\"Text Summarization App\",\n",
    "    description=\"Enter some text, and the model will provide a summary.\"\n",
    ")"
   ]
  },
  {
   "cell_type": "code",
   "execution_count": null,
   "id": "15494887",
   "metadata": {},
   "outputs": [
    {
     "name": "stdout",
     "output_type": "stream",
     "text": [
      "Rerunning server... use `close()` to stop if you need to change `launch()` parameters.\n",
      "----\n",
      "Running on public URL: https://698e58ed6c6db8b620.gradio.live\n",
      "\n",
      "This share link expires in 72 hours. For free permanent hosting and GPU upgrades, run `gradio deploy` from Terminal to deploy to Spaces (https://huggingface.co/spaces)\n"
     ]
    }
   ],
   "source": [
    "# Launch the Gradio interface\n",
    "iface.launch()"
   ]
  },
  {
   "cell_type": "code",
   "execution_count": null,
   "id": "13b52e96",
   "metadata": {},
   "outputs": [],
   "source": []
  }
 ],
 "metadata": {
  "kernelspec": {
   "display_name": "Python 3 (ipykernel)",
   "language": "python",
   "name": "python3"
  },
  "language_info": {
   "codemirror_mode": {
    "name": "ipython",
    "version": 3
   },
   "file_extension": ".py",
   "mimetype": "text/x-python",
   "name": "python",
   "nbconvert_exporter": "python",
   "pygments_lexer": "ipython3",
   "version": "3.11.1"
  }
 },
 "nbformat": 4,
 "nbformat_minor": 5
}
