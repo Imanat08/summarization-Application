{
 "cells": [
  {
   "cell_type": "code",
   "execution_count": null,
   "id": "0e358cd8",
   "metadata": {},
   "outputs": [],
   "source": [
    "import gradio as gr\n",
    "from transformers import pipeline"
   ]
  },
  {
   "cell_type": "code",
   "execution_count": null,
   "id": "c58cba55",
   "metadata": {},
   "outputs": [],
   "source": [
    "# Choose the interface pipeline - Text Summarization\n",
    "task = \"summarization\""
   ]
  },
  {
   "cell_type": "code",
   "execution_count": null,
   "id": "6691686b",
   "metadata": {},
   "outputs": [],
   "source": [
    "# Create the summarization pipeline\n",
    "summarization_pipeline = pipeline(task)"
   ]
  },
  {
   "cell_type": "code",
   "execution_count": null,
   "id": "bb0fb86b",
   "metadata": {},
   "outputs": [],
   "source": [
    "# Define the function to be used by Gradio for summarization\n",
    "def summarize_text(input_text):\n",
    "    summary = summarization_pipeline(input_text, max_length=150, min_length=50, do_sample=False)[0]['summary_text']\n",
    "    return summary"
   ]
  },
  {
   "cell_type": "code",
   "execution_count": null,
   "id": "5b3ac69c",
   "metadata": {},
   "outputs": [],
   "source": [
    "# Create the Gradio interface\n",
    "iface = gr.Interface(\n",
    "    fn=summarize_text,\n",
    "    inputs=gr.inputs.Textbox(),\n",
    "    outputs=gr.outputs.Textbox(),\n",
    "    live=True,\n",
    "    capture_session=True,\n",
    "    title=\"Text Summarization App\",\n",
    "    description=\"Enter some text, and the model will provide a summary.\"\n",
    ")"
   ]
  },
  {
   "cell_type": "code",
   "execution_count": null,
   "id": "d6c23066",
   "metadata": {},
   "outputs": [],
   "source": [
    "# Launch the Gradio interface\n",
    "iface.launch()"
   ]
  }
 ],
 "metadata": {
  "kernelspec": {
   "display_name": "Python 3 (ipykernel)",
   "language": "python",
   "name": "python3"
  },
  "language_info": {
   "codemirror_mode": {
    "name": "ipython",
    "version": 3
   },
   "file_extension": ".py",
   "mimetype": "text/x-python",
   "name": "python",
   "nbconvert_exporter": "python",
   "pygments_lexer": "ipython3",
   "version": "3.11.1"
  }
 },
 "nbformat": 4,
 "nbformat_minor": 5
}
